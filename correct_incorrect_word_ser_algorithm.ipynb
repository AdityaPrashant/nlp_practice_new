{
 "cells": [
  {
   "cell_type": "code",
   "execution_count": 3,
   "id": "08a074fd",
   "metadata": {},
   "outputs": [],
   "source": [
    "## Code for listing wrongly searched words with the combination of diflib and levenshtein algorithm\n",
    "import difflib\n",
    "import Levenshtein as lev"
   ]
  },
  {
   "cell_type": "code",
   "execution_count": 4,
   "id": "b49bf81f",
   "metadata": {},
   "outputs": [
    {
     "name": "stdout",
     "output_type": "stream",
     "text": [
      "The nearest match for morpidopesity is ['morbid-obesity']\n",
      "The nearest match for dag is ['dog']\n",
      "The nearest match for besignhypertension is ['benign-hypertension']\n",
      "The nearest match for fush is ['fish']\n",
      "The nearest match for towastatin is ['atorvastatin']\n",
      "patision\n"
     ]
    }
   ],
   "source": [
    "correct_words = [\"benign-hypertension\", \"morbid-obesity\", \"bird\", \"fish\", \"dog\", \"potassium\", \"atorvastatin\"]\n",
    "incorrect_words = [\"morpidopesity\", \"dag\", \"besignhypertension\", \"fush\", \"towastatin\", \"patision\"]\n",
    "\n",
    "for iw in incorrect_words:\n",
    "    nearest_match = difflib.get_close_matches(iw, correct_words)\n",
    "    if nearest_match:\n",
    "        nearest_match1 = nearest_match\n",
    "        print(f\"The nearest match for {iw} is {nearest_match1}\")\n",
    "    else:\n",
    "        print(f\"{iw}\")"
   ]
  },
  {
   "cell_type": "code",
   "execution_count": 16,
   "id": "c7698126",
   "metadata": {},
   "outputs": [],
   "source": [
    "def nearest_match(word, word_list):\n",
    "    distances = []\n",
    "    for w in word_list:\n",
    "        distances.append((w, lev.distance(word, w)))\n",
    "    return min(distances, key=lambda x: x[1])"
   ]
  },
  {
   "cell_type": "code",
   "execution_count": 17,
   "id": "f3c24e48",
   "metadata": {},
   "outputs": [
    {
     "name": "stdout",
     "output_type": "stream",
     "text": [
      "The nearest match for patision is ['potassium', 5]\n"
     ]
    }
   ],
   "source": [
    "## To search for the word not found in it.\n",
    "word_list = [\"benign-hypertension\",\"morbid-obesity\",\"hyperlipidemia\", \"hypertension\", \"potassium\", \"potash\", \"potmash\"]\n",
    "nearest_word = list(nearest_match(iw, correct_words))\n",
    "print(f\"The nearest match for {iw} is {nearest_word}\")"
   ]
  },
  {
   "cell_type": "code",
   "execution_count": 6,
   "id": "84f3acc7",
   "metadata": {},
   "outputs": [
    {
     "name": "stdout",
     "output_type": "stream",
     "text": [
      "Found words: []\n",
      "Not found words: ['morpidopesity', 'dag', 'besignhypertension', 'fush', 'patision']\n"
     ]
    }
   ],
   "source": [
    "import Levenshtein as lev\n",
    "\n",
    "# List of incorrect words\n",
    "incorrect_words = [\"morpidopesity\", \"dag\", \"besignhypertension\", \"fush\", \"patision\"]\n",
    "\n",
    "# List of corrected words\n",
    "corrected_words = [\"benign-hypertension\",\"morbid-obesity\",\"hyperlipidemia\", \"hypertension\", \"potassium\"]\n",
    "\n",
    "# Lists to store the found and not found words\n",
    "found_words = []\n",
    "not_found_words = []\n",
    "\n",
    "# Iterate over the incorrect words\n",
    "for incorrect_word in incorrect_words:\n",
    "    min_distance = float(\"inf\")\n",
    "    closest_word = \"\"\n",
    "\n",
    "    # Iterate over the corrected words\n",
    "    for corrected_word in corrected_words:\n",
    "        distance = lev.distance(incorrect_word, corrected_word)\n",
    "\n",
    "        if distance < min_distance:\n",
    "            min_distance = distance\n",
    "            closest_word = corrected_word\n",
    "    if min_distance <= 1:\n",
    "        found_words.append(closest_word)\n",
    "    else:\n",
    "        not_found_words.append(incorrect_word)\n",
    "\n",
    "print(\"Found words:\", found_words)\n",
    "print(\"Not found words:\", not_found_words)\n"
   ]
  },
  {
   "cell_type": "code",
   "execution_count": 98,
   "id": "38e9d517",
   "metadata": {},
   "outputs": [],
   "source": [
    "\n",
    "def nearest_match(word_list, reference_list):\n",
    "    result = {}\n",
    "    for w in word_list:\n",
    "        distances = []\n",
    "        for r in reference_list:\n",
    "            distances.append((r, lev.distance(w, r)))\n",
    "        result[w] = min(distances, key=lambda x: x[1])\n",
    "    return result"
   ]
  },
  {
   "cell_type": "code",
   "execution_count": 115,
   "id": "e62027bb",
   "metadata": {},
   "outputs": [],
   "source": [
    "incorrect_words = ['morpidopesity', 'besignhypertension', \"Aditya\", 'hyperdipillemia','patision']\n",
    "corrected_words = [\"benign-hypertension\",\"morbid-obesity\",\"hyperlipidemia\", \"hypertension\", \"potassium\", \"atorvastatin\"]\n",
    "nearest_word = nearest_match(incorrect_words, corrected_words)"
   ]
  },
  {
   "cell_type": "code",
   "execution_count": 116,
   "id": "6ad5530d",
   "metadata": {},
   "outputs": [
    {
     "data": {
      "text/plain": [
       "('potassium', 9)"
      ]
     },
     "execution_count": 116,
     "metadata": {},
     "output_type": "execute_result"
    }
   ],
   "source": [
    "nearest_word"
   ]
  },
  {
   "cell_type": "code",
   "execution_count": 79,
   "id": "933e2e5f",
   "metadata": {},
   "outputs": [],
   "source": [
    "def nearest_match(word_list, reference_list, threshold=0.45):\n",
    "    result = {}\n",
    "    for w in word_list:\n",
    "        if w in reference_list:  # check if word is already in reference_list\n",
    "            result[w] = (w, 0)\n",
    "        else:\n",
    "            distances = []\n",
    "            for r in reference_list:\n",
    "                distances.append((r, lev.distance(w, r)))\n",
    "            nearest = min(distances, key=lambda x: x[1])\n",
    "            if nearest[1] <= threshold:\n",
    "                result[w] = nearest\n",
    "    return result\n",
    "\n",
    "\n",
    "def nearest_match(word_list, reference_list):\n",
    "    result = {}\n",
    "    reference_list = set(reference_list)\n",
    "    for word in word_list:\n",
    "        if word in reference_list:  # check if word is already in reference_list\n",
    "            result[word] = (word, 0)\n",
    "            reference_list.remove(word)\n",
    "        else:\n",
    "            distances = []\n",
    "            for r in reference_list:\n",
    "                distances.append((r, lev.distance(word, r)))\n",
    "            nearest = min(distances, key=lambda x: x[1])\n",
    "    return nearest"
   ]
  },
  {
   "cell_type": "code",
   "execution_count": 95,
   "id": "706432ab",
   "metadata": {},
   "outputs": [],
   "source": []
  },
  {
   "cell_type": "code",
   "execution_count": 4,
   "id": "95f5b0f2",
   "metadata": {},
   "outputs": [
    {
     "name": "stdout",
     "output_type": "stream",
     "text": [
      "happi\n"
     ]
    }
   ],
   "source": [
    "from jellyfish import jaro_winkler\n",
    "\n",
    "def find_correct_spelling(misspelled_word, word_list):\n",
    "    correct_word = None\n",
    "    max_similarity = 0\n",
    "    for word in word_list:\n",
    "        similarity = jaro_winkler(misspelled_word, word)\n",
    "        if similarity > max_similarity:\n",
    "            correct_word = word\n",
    "            max_similarity = similarity\n",
    "    return correct_word\n",
    "\n",
    "misspelled_word = 'cordic'\n",
    "word_list = ['spelling', 'kitten', 'sitting', 'happy', 'happi', 'cardiac']\n",
    "correct_word = find_correct_spelling(misspelled_word, word_list)\n",
    "print(correct_word)"
   ]
  },
  {
   "cell_type": "code",
   "execution_count": 9,
   "id": "caffe751",
   "metadata": {},
   "outputs": [],
   "source": [
    "drug_list = ['cardiac', 'cardiac arrest', 'cardiovascular problem']"
   ]
  },
  {
   "cell_type": "code",
   "execution_count": 12,
   "id": "65ceba1e",
   "metadata": {},
   "outputs": [
    {
     "data": {
      "text/plain": [
       "['cardiac']"
      ]
     },
     "execution_count": 12,
     "metadata": {},
     "output_type": "execute_result"
    }
   ],
   "source": [
    "# randomly checking similarity value here\n",
    "import difflib\n",
    "#difflib.SequenceMatcher(None, 'cerdiac arret', 'cardiac arrest').ratio()\n",
    "difflib.get_close_matches('cerdiac',drug_list, n=1, cutoff=0.8)"
   ]
  },
  {
   "cell_type": "code",
   "execution_count": null,
   "id": "31308044",
   "metadata": {},
   "outputs": [],
   "source": []
  },
  {
   "cell_type": "code",
   "execution_count": null,
   "id": "49ecd820",
   "metadata": {},
   "outputs": [],
   "source": []
  }
 ],
 "metadata": {
  "kernelspec": {
   "display_name": "Python 3 (ipykernel)",
   "language": "python",
   "name": "python3"
  },
  "language_info": {
   "codemirror_mode": {
    "name": "ipython",
    "version": 3
   },
   "file_extension": ".py",
   "mimetype": "text/x-python",
   "name": "python",
   "nbconvert_exporter": "python",
   "pygments_lexer": "ipython3",
   "version": "3.9.12"
  }
 },
 "nbformat": 4,
 "nbformat_minor": 5
}
