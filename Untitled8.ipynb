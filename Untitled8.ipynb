{
 "cells": [
  {
   "cell_type": "code",
   "execution_count": null,
   "id": "c18d6c34",
   "metadata": {},
   "outputs": [],
   "source": []
  },
  {
   "cell_type": "code",
   "execution_count": null,
   "id": "fc175701",
   "metadata": {},
   "outputs": [],
   "source": []
  },
  {
   "cell_type": "code",
   "execution_count": null,
   "id": "d04b095f",
   "metadata": {},
   "outputs": [],
   "source": []
  },
  {
   "cell_type": "code",
   "execution_count": null,
   "id": "cf10fa72",
   "metadata": {},
   "outputs": [],
   "source": []
  },
  {
   "cell_type": "code",
   "execution_count": 7,
   "id": "416183e2",
   "metadata": {},
   "outputs": [
    {
     "name": "stdout",
     "output_type": "stream",
     "text": [
      "['morbid-obesity', 'dog', 'benign-hypertension', 'fish', 'towastatin', 'potassium']\n"
     ]
    }
   ],
   "source": [
    "import re\n",
    "from difflib import get_close_matches\n",
    "\n",
    "def soundex(word):\n",
    "    word = word.upper()\n",
    "    soundex = \"\"\n",
    "    soundex += word[0]\n",
    "    word = re.sub(r\"[AEIOUYWH]\", \"\", word[1:])\n",
    "    word = re.sub(r\"[BFPV]\", \"1\", word)\n",
    "    word = re.sub(r\"[CGJKQSXZ]\", \"2\", word)\n",
    "    word = re.sub(r\"[DT]\", \"3\", word)\n",
    "    word = re.sub(r\"L\", \"4\", word)\n",
    "    word = re.sub(r\"[MN]\", \"5\", word)\n",
    "    word = re.sub(r\"R\", \"6\", word)\n",
    "    for char in word:\n",
    "        if char != soundex[-1]:\n",
    "            soundex += char\n",
    "    soundex = soundex.replace(\"0\", \"\")\n",
    "    soundex = soundex[:4].ljust(4, \"0\")\n",
    "    return soundex\n",
    "\n",
    "def spell_correction(incorrect_words, reference_list):\n",
    "    reference_soundex = {}\n",
    "    for word in reference_list:\n",
    "        reference_soundex[soundex(word)] = word\n",
    "    correct_words = []\n",
    "    for word in incorrect_words:\n",
    "        s = soundex(word)\n",
    "        if s in reference_soundex:\n",
    "            correct_words.append(reference_soundex[s])\n",
    "        else:\n",
    "            closest_match = get_close_matches(s, reference_soundex.keys(), n=1, cutoff=0.6)\n",
    "            if closest_match:\n",
    "                correct_words.append(reference_soundex[closest_match[0]])\n",
    "            else:\n",
    "                correct_words.append(word)\n",
    "    return correct_words\n",
    "\n",
    "incorrect_words = [\"morpidopesity\", \"dag\", \"besignhypertension\", \"fush\", \"towastatin\", \"patision\"]\n",
    "reference_list = [\"benign-hypertension\", \"morbid-obesity\", \"bird\", \"fish\", \"dog\", \"potassium\", \"atorvastatin\"]\n",
    "correct_words = spell_correction(incorrect_words, reference_list)\n",
    "print(correct_words)"
   ]
  },
  {
   "cell_type": "code",
   "execution_count": null,
   "id": "03ef280f",
   "metadata": {},
   "outputs": [],
   "source": []
  },
  {
   "cell_type": "code",
   "execution_count": 1,
   "id": "ff1676a1",
   "metadata": {},
   "outputs": [
    {
     "ename": "NameError",
     "evalue": "name 'ref_dict' is not defined",
     "output_type": "error",
     "traceback": [
      "\u001b[1;31m---------------------------------------------------------------------------\u001b[0m",
      "\u001b[1;31mNameError\u001b[0m                                 Traceback (most recent call last)",
      "Input \u001b[1;32mIn [1]\u001b[0m, in \u001b[0;36m<cell line: 40>\u001b[1;34m()\u001b[0m\n\u001b[0;32m     37\u001b[0m     \u001b[38;5;28;01mreturn\u001b[39;00m correct_words\n\u001b[0;32m     39\u001b[0m incorrect_words \u001b[38;5;241m=\u001b[39m [\u001b[38;5;124m\"\u001b[39m\u001b[38;5;124mmorpidopesity\u001b[39m\u001b[38;5;124m\"\u001b[39m, \u001b[38;5;124m\"\u001b[39m\u001b[38;5;124mdag\u001b[39m\u001b[38;5;124m\"\u001b[39m, \u001b[38;5;124m\"\u001b[39m\u001b[38;5;124mbesignhypertension\u001b[39m\u001b[38;5;124m\"\u001b[39m, \u001b[38;5;124m\"\u001b[39m\u001b[38;5;124mfush\u001b[39m\u001b[38;5;124m\"\u001b[39m, \u001b[38;5;124m\"\u001b[39m\u001b[38;5;124mtowastatin\u001b[39m\u001b[38;5;124m\"\u001b[39m, \u001b[38;5;124m\"\u001b[39m\u001b[38;5;124mpatision\u001b[39m\u001b[38;5;124m\"\u001b[39m]\n\u001b[1;32m---> 40\u001b[0m reference_list \u001b[38;5;241m=\u001b[39m \u001b[43mref_dict\u001b[49m\u001b[38;5;66;03m#[\"benign-hypertension\", \"morbid-obesity\", \"bird\", \"fish\", \"dog\", \"potassium\", \"atorvastatin\"]\u001b[39;00m\n\u001b[0;32m     41\u001b[0m correct_words \u001b[38;5;241m=\u001b[39m spell_correction(incorrect_words, reference_list)\n\u001b[0;32m     42\u001b[0m \u001b[38;5;28mprint\u001b[39m(correct_words)\n",
      "\u001b[1;31mNameError\u001b[0m: name 'ref_dict' is not defined"
     ]
    }
   ],
   "source": [
    "import re\n",
    "from difflib import get_close_matches\n",
    "\n",
    "def soundex(word):\n",
    "    word = word.upper()\n",
    "    soundex = \"\"\n",
    "    soundex += word[0]\n",
    "    word = re.sub(r\"[AEIOUYWH]\", \"\", word[1:])\n",
    "    word = re.sub(r\"[BFPV]\", \"1\", word)\n",
    "    word = re.sub(r\"[CGJKQSXZ]\", \"2\", word)\n",
    "    word = re.sub(r\"[DT]\", \"3\", word)\n",
    "    word = re.sub(r\"L\", \"4\", word)\n",
    "    word = re.sub(r\"[MN]\", \"5\", word)\n",
    "    word = re.sub(r\"R\", \"6\", word)\n",
    "    for char in word:\n",
    "        if char != soundex[-1]:\n",
    "            soundex += char\n",
    "    soundex = soundex.replace(\"0\", \"\")\n",
    "    soundex = soundex[:4].ljust(4, \"0\")\n",
    "    return soundex\n",
    "\n",
    "def spell_correction(incorrect_words, reference_dict):\n",
    "    reference_soundex = {}\n",
    "    for word, label in reference_dict.items():\n",
    "        reference_soundex[soundex(word)] = (word, label)\n",
    "    correct_words = {}\n",
    "    for word in incorrect_words:\n",
    "        s = soundex(word)\n",
    "        if s in reference_soundex:\n",
    "            correct_words[reference_soundex[s][0]] = reference_soundex[s][1]\n",
    "        else:\n",
    "            closest_match = get_close_matches(s, reference_soundex.keys(), n=1, cutoff=0.6)\n",
    "            if closest_match:\n",
    "                correct_words[reference_soundex[closest_match[0]][0]] = reference_soundex[closest_match[0]][1]\n",
    "            else:\n",
    "                correct_words[word] = None\n",
    "    return correct_words\n",
    "\n",
    "incorrect_words = [\"morpidopesity\", \"dag\", \"besignhypertension\", \"fush\", \"towastatin\", \"patision\"]\n",
    "reference_list = ref_dict#[\"benign-hypertension\", \"morbid-obesity\", \"bird\", \"fish\", \"dog\", \"potassium\", \"atorvastatin\"]\n",
    "correct_words = spell_correction(incorrect_words, reference_list)\n",
    "print(correct_words)"
   ]
  },
  {
   "cell_type": "code",
   "execution_count": null,
   "id": "c85a03af",
   "metadata": {},
   "outputs": [],
   "source": []
  },
  {
   "cell_type": "code",
   "execution_count": 2,
   "id": "23c068f1",
   "metadata": {},
   "outputs": [],
   "source": [
    "import pandas as pd\n",
    "import difflib\n",
    "import os\n",
    "os.chdir('C:/Users/p_adi/OneDrive/Desktop')"
   ]
  },
  {
   "cell_type": "code",
   "execution_count": 3,
   "id": "84bbf67a",
   "metadata": {},
   "outputs": [
    {
     "data": {
      "text/html": [
       "<div>\n",
       "<style scoped>\n",
       "    .dataframe tbody tr th:only-of-type {\n",
       "        vertical-align: middle;\n",
       "    }\n",
       "\n",
       "    .dataframe tbody tr th {\n",
       "        vertical-align: top;\n",
       "    }\n",
       "\n",
       "    .dataframe thead th {\n",
       "        text-align: right;\n",
       "    }\n",
       "</style>\n",
       "<table border=\"1\" class=\"dataframe\">\n",
       "  <thead>\n",
       "    <tr style=\"text-align: right;\">\n",
       "      <th></th>\n",
       "      <th>words</th>\n",
       "      <th>label</th>\n",
       "    </tr>\n",
       "  </thead>\n",
       "  <tbody>\n",
       "    <tr>\n",
       "      <th>0</th>\n",
       "      <td>postural hypotension</td>\n",
       "      <td>disease</td>\n",
       "    </tr>\n",
       "    <tr>\n",
       "      <th>1</th>\n",
       "      <td>parkinson ' s disease</td>\n",
       "      <td>disease</td>\n",
       "    </tr>\n",
       "    <tr>\n",
       "      <th>2</th>\n",
       "      <td>systolic orthostatic hypotension</td>\n",
       "      <td>disease</td>\n",
       "    </tr>\n",
       "    <tr>\n",
       "      <th>3</th>\n",
       "      <td>orthostatic hypotension</td>\n",
       "      <td>disease</td>\n",
       "    </tr>\n",
       "    <tr>\n",
       "      <th>4</th>\n",
       "      <td>reduced the supine systolic and diastolic bloo...</td>\n",
       "      <td>disease</td>\n",
       "    </tr>\n",
       "    <tr>\n",
       "      <th>...</th>\n",
       "      <td>...</td>\n",
       "      <td>...</td>\n",
       "    </tr>\n",
       "    <tr>\n",
       "      <th>63698</th>\n",
       "      <td>butylphenyl</td>\n",
       "      <td>drug</td>\n",
       "    </tr>\n",
       "    <tr>\n",
       "      <th>63699</th>\n",
       "      <td>capryloyl</td>\n",
       "      <td>drug</td>\n",
       "    </tr>\n",
       "    <tr>\n",
       "      <th>63700</th>\n",
       "      <td>disipal</td>\n",
       "      <td>drug</td>\n",
       "    </tr>\n",
       "    <tr>\n",
       "      <th>63701</th>\n",
       "      <td>benign hypertension</td>\n",
       "      <td>disease</td>\n",
       "    </tr>\n",
       "    <tr>\n",
       "      <th>63702</th>\n",
       "      <td>morbid obesity</td>\n",
       "      <td>disease</td>\n",
       "    </tr>\n",
       "  </tbody>\n",
       "</table>\n",
       "<p>63703 rows × 2 columns</p>\n",
       "</div>"
      ],
      "text/plain": [
       "                                                   words    label\n",
       "0                                   postural hypotension  disease\n",
       "1                                  parkinson ' s disease  disease\n",
       "2                       systolic orthostatic hypotension  disease\n",
       "3                                orthostatic hypotension  disease\n",
       "4      reduced the supine systolic and diastolic bloo...  disease\n",
       "...                                                  ...      ...\n",
       "63698                                        butylphenyl     drug\n",
       "63699                                          capryloyl     drug\n",
       "63700                                            disipal     drug\n",
       "63701                                benign hypertension  disease\n",
       "63702                                     morbid obesity  disease\n",
       "\n",
       "[63703 rows x 2 columns]"
      ]
     },
     "execution_count": 3,
     "metadata": {},
     "output_type": "execute_result"
    }
   ],
   "source": [
    "data = pd.read_excel('output.xlsx')\n",
    "data.columns = ['words', 'label']\n",
    "data"
   ]
  },
  {
   "cell_type": "code",
   "execution_count": 4,
   "id": "82b55a45",
   "metadata": {},
   "outputs": [],
   "source": [
    "## Creating dictionary for searching\n",
    "\n",
    "key_col = 'words'\n",
    "val_col = 'label'\n",
    "\n",
    "# convert the dataframe to a dictionary\n",
    "ref_dict = data.set_index(key_col)[val_col].to_dict()"
   ]
  },
  {
   "cell_type": "code",
   "execution_count": 5,
   "id": "7d87e6c3",
   "metadata": {},
   "outputs": [],
   "source": [
    "lst1 = list(data['words'])"
   ]
  },
  {
   "cell_type": "code",
   "execution_count": null,
   "id": "bcf82a10",
   "metadata": {},
   "outputs": [],
   "source": []
  },
  {
   "cell_type": "code",
   "execution_count": 8,
   "id": "8d46e089",
   "metadata": {},
   "outputs": [
    {
     "name": "stdout",
     "output_type": "stream",
     "text": [
      "Corrected words:  {'morpidopesity': ('morbid obesity', 'disease'), 'besignhypertension': ('bacampicillin', 'drug'), 'patision': ('POTASSIUM CHLORIDE 15MEQ IN DEXTROSE 5% AND SODIUM CHLORIDE 0.225% IN PLASTIC CONTAINER', 'drug')}\n",
      "Not Matched:  []\n"
     ]
    }
   ],
   "source": [
    "def soundex(word):\n",
    "    word = word.upper()\n",
    "    soundex = \"\"\n",
    "    soundex += word[0]\n",
    "    word = re.sub(r\"[AEIOUYWH]\", \"\", word[1:])\n",
    "    word = re.sub(r\"[BFPV]\", \"1\", word)\n",
    "    word = re.sub(r\"[CGJKQSXZ]\", \"2\", word)\n",
    "    word = re.sub(r\"[DT]\", \"3\", word)\n",
    "    word = re.sub(r\"L\", \"4\", word)\n",
    "    word = re.sub(r\"[MN]\", \"5\", word)\n",
    "    word = re.sub(r\"R\", \"6\", word)\n",
    "    for char in word:\n",
    "        if char != soundex[-1]:\n",
    "            soundex += char\n",
    "    soundex = soundex.replace(\"0\", \"\")\n",
    "    soundex = soundex[:4].ljust(4, \"0\")\n",
    "    return soundex\n",
    "\n",
    "def spell_correction(incorrect_words_list, reference_dict, cutoff=0.85):\n",
    "    reference_soundex = {}\n",
    "    for word, label in reference_dict.items():\n",
    "        reference_soundex[soundex(word)] = (word, label)\n",
    "    corrected_words = {}\n",
    "    not_matched = []\n",
    "    for word in incorrect_words_list:\n",
    "        s = soundex(word)\n",
    "        if s in reference_soundex:\n",
    "            corrected_words[word] = reference_soundex[s]\n",
    "        else:\n",
    "            closest_match = get_close_matches(s, reference_soundex.keys(), n=1, cutoff=cutoff)\n",
    "            if closest_match:\n",
    "                corrected_words[word] = reference_soundex[closest_match[0]]\n",
    "            else:\n",
    "                not_matched.append(word)\n",
    "    return corrected_words, not_matched\n",
    "\n",
    "incorrect_words = [\"morpidopesity\",  \"besignhypertension\",  \"patision\"]\n",
    "reference_dict = ref_dict\n",
    "corrected_words, not_matched = spell_correction(incorrect_words, reference_dict)\n",
    "print(\"Corrected words: \", corrected_words)\n",
    "print(\"Not Matched: \", not_matched)"
   ]
  },
  {
   "cell_type": "code",
   "execution_count": 9,
   "id": "ecf10474",
   "metadata": {},
   "outputs": [
    {
     "name": "stdout",
     "output_type": "stream",
     "text": [
      "Corrected words:  {'besignhypertension': ('benign hypertension', 'disease')}\n",
      "Not Matched:  ['morpidopesity', 'patision']\n"
     ]
    }
   ],
   "source": [
    "from nltk import ngrams\n",
    "from difflib import get_close_matches\n",
    "\n",
    "def get_ngrams(word, n=2):\n",
    "    n_grams = ngrams(word, n)\n",
    "    return [\"\".join(x) for x in n_grams]\n",
    "\n",
    "def spell_correction(incorrect_words_list, reference_dict, cutoff=0.8):\n",
    "    reference_unigrams = {}\n",
    "    reference_bigrams = {}\n",
    "    reference_trigrams = {}\n",
    "    for word, label in reference_dict.items():\n",
    "        reference_unigrams[word] = get_ngrams(word, 1)\n",
    "        reference_bigrams[word] = get_ngrams(word, 2)\n",
    "        reference_trigrams[word] = get_ngrams(word, 3)\n",
    "    corrected_words = {}\n",
    "    not_matched = []\n",
    "    for word in incorrect_words_list:\n",
    "        closest_match = get_close_matches(word, reference_unigrams.keys(), n=1, cutoff=cutoff)\n",
    "        if closest_match:\n",
    "            match = closest_match[0]\n",
    "            if set(get_ngrams(word, 3)).issubset(reference_trigrams[match]) or \\\n",
    "               set(get_ngrams(word, 2)).issubset(reference_bigrams[match]) or \\\n",
    "               set(get_ngrams(word, 1)).issubset(reference_unigrams[match]):\n",
    "                corrected_words[word] = (match, reference_dict[match])\n",
    "            else:\n",
    "                not_matched.append(word)\n",
    "        else:\n",
    "            not_matched.append(word)\n",
    "    return corrected_words, not_matched\n",
    "\n",
    "def check_spelling(words, reference_words, threshold=0.75):\n",
    "    corrected_words = {}\n",
    "    incorrect_words = []\n",
    "    for word in words:\n",
    "        if word in reference_words:\n",
    "            corrected_words[word] = reference_words[word]\n",
    "        else:\n",
    "            match = difflib.get_close_matches(word, reference_words.keys(), n=1, cutoff=threshold)\n",
    "            if match:\n",
    "                corrected_words[match[0]] = reference_words[match[0]]\n",
    "            else:\n",
    "                incorrect_words.append(word)\n",
    "    return corrected_words, incorrect_words\n",
    "\n",
    "incorrect_words = [\"morpidopesity\",  \"besignhypertension\",  \"patision\"]\n",
    "reference_dict = ref_dict\n",
    "corrected_words, not_matched = spell_correction(incorrect_words, reference_dict)\n",
    "print(\"Corrected words: \", corrected_words)\n",
    "print(\"Not Matched: \", not_matched)\n",
    "# print(\"Matched words in second algorithm: \",check_spelling(not_matched, reference_words))"
   ]
  },
  {
   "cell_type": "code",
   "execution_count": null,
   "id": "6fc24bed",
   "metadata": {},
   "outputs": [],
   "source": []
  },
  {
   "cell_type": "code",
   "execution_count": null,
   "id": "09c18534",
   "metadata": {},
   "outputs": [],
   "source": []
  },
  {
   "cell_type": "code",
   "execution_count": null,
   "id": "61fc834d",
   "metadata": {},
   "outputs": [],
   "source": []
  },
  {
   "cell_type": "markdown",
   "id": "adc7f421",
   "metadata": {},
   "source": [
    "# Using Combination of Diflib and Levenshtein algorithm based on weightage"
   ]
  },
  {
   "cell_type": "code",
   "execution_count": 18,
   "id": "db55b859",
   "metadata": {},
   "outputs": [
    {
     "name": "stdout",
     "output_type": "stream",
     "text": [
      "Corrected words:  {'morpidopesity': ('morbid obesity', 'disease'), 'besignhypertension': ('benign hypertension', 'disease'), 'patision': ('optison', 'drug')}\n"
     ]
    }
   ],
   "source": [
    "from difflib import get_close_matches\n",
    "from Levenshtein import distance\n",
    "\n",
    "def spell_correction(incorrect_words_dict, reference_dict, weightage=0.5):\n",
    "    corrected_words = {}\n",
    "    for word, label in incorrect_words_dict.items():\n",
    "        # get the closest match using difflib\n",
    "        closest_match_difflib = get_close_matches(word, reference_dict.keys(), n=1, cutoff=weightage)\n",
    "        # check if there is a match found\n",
    "        if closest_match_difflib:\n",
    "            closest_match_difflib = closest_match_difflib[0]\n",
    "        else:\n",
    "            closest_match_difflib = word\n",
    "        # initialize closest match and minimum distance\n",
    "        closest_match_lev = \"\"\n",
    "        min_dist = float(\"inf\")\n",
    "        # iterate through reference list\n",
    "        for ref_word in reference_dict.keys():\n",
    "            # calculate Levenshtein distance\n",
    "            dist = distance(word, ref_word)\n",
    "            # check if the distance is smaller than the current minimum distance\n",
    "            if dist < min_dist:\n",
    "                closest_match_lev = ref_word\n",
    "                min_dist = dist\n",
    "        # return closest match based on weightage\n",
    "        if weightage < 0.5:\n",
    "            corrected_words[word] = (closest_match_lev, reference_dict[closest_match_lev])\n",
    "        else:\n",
    "            corrected_words[word] = (closest_match_difflib, reference_dict[closest_match_difflib])\n",
    "    return corrected_words\n",
    "\n",
    "incorrect_words_dict = {\"morpidopesity\": 'w1', \"besignhypertension\": 'w2', \"patision\": 'w3'}\n",
    "reference_dict = ref_dict\n",
    "corrected_words = spell_correction(incorrect_words_dict, reference_dict, weightage=0.8)\n",
    "print(\"Corrected words: \", corrected_words)"
   ]
  },
  {
   "cell_type": "code",
   "execution_count": null,
   "id": "30bb8186",
   "metadata": {},
   "outputs": [],
   "source": []
  },
  {
   "cell_type": "code",
   "execution_count": null,
   "id": "67ba1a78",
   "metadata": {},
   "outputs": [],
   "source": []
  },
  {
   "cell_type": "code",
   "execution_count": 7,
   "id": "d0fa5bdd",
   "metadata": {},
   "outputs": [
    {
     "ename": "NameError",
     "evalue": "name 'distance' is not defined",
     "output_type": "error",
     "traceback": [
      "\u001b[1;31m---------------------------------------------------------------------------\u001b[0m",
      "\u001b[1;31mNameError\u001b[0m                                 Traceback (most recent call last)",
      "Input \u001b[1;32mIn [7]\u001b[0m, in \u001b[0;36m<cell line: 35>\u001b[1;34m()\u001b[0m\n\u001b[0;32m     31\u001b[0m incorrect_words_list \u001b[38;5;241m=\u001b[39m [\u001b[38;5;124m'\u001b[39m\u001b[38;5;124mmorpidopesity\u001b[39m\u001b[38;5;124m'\u001b[39m, \u001b[38;5;124m'\u001b[39m\u001b[38;5;124mmetholienate\u001b[39m\u001b[38;5;124m'\u001b[39m, \u001b[38;5;124m'\u001b[39m\u001b[38;5;124mchelesteral\u001b[39m\u001b[38;5;124m'\u001b[39m, \u001b[38;5;124m'\u001b[39m\u001b[38;5;124mhyperdipillemia\u001b[39m\u001b[38;5;124m'\u001b[39m, \u001b[38;5;124m'\u001b[39m\u001b[38;5;124mhyperlifichesmia\u001b[39m\u001b[38;5;124m'\u001b[39m, \u001b[38;5;124m'\u001b[39m\u001b[38;5;124mfolliaded\u001b[39m\u001b[38;5;124m'\u001b[39m,\n\u001b[0;32m     32\u001b[0m              \u001b[38;5;124m'\u001b[39m\u001b[38;5;124mDratactive\u001b[39m\u001b[38;5;124m'\u001b[39m, \u001b[38;5;124m'\u001b[39m\u001b[38;5;124mtowastatin\u001b[39m\u001b[38;5;124m'\u001b[39m, \u001b[38;5;124m'\u001b[39m\u001b[38;5;124mchelesteral\u001b[39m\u001b[38;5;124m'\u001b[39m, \u001b[38;5;124m'\u001b[39m\u001b[38;5;124mpatision\u001b[39m\u001b[38;5;124m'\u001b[39m, \u001b[38;5;124m'\u001b[39m\u001b[38;5;124mOregozale\u001b[39m\u001b[38;5;124m'\u001b[39m, \u001b[38;5;124m'\u001b[39m\u001b[38;5;124mVigran\u001b[39m\u001b[38;5;124m'\u001b[39m, \u001b[38;5;124m'\u001b[39m\u001b[38;5;124mFarxija\u001b[39m\u001b[38;5;124m'\u001b[39m,\n\u001b[0;32m     33\u001b[0m  \u001b[38;5;124m'\u001b[39m\u001b[38;5;124mpuphosis\u001b[39m\u001b[38;5;124m'\u001b[39m, \u001b[38;5;124m'\u001b[39m\u001b[38;5;124mDeleficiency\u001b[39m\u001b[38;5;124m'\u001b[39m, \u001b[38;5;124m'\u001b[39m\u001b[38;5;124mbesignhypertension\u001b[39m\u001b[38;5;124m'\u001b[39m, \u001b[38;5;124m'\u001b[39m\u001b[38;5;124mArghristis\u001b[39m\u001b[38;5;124m'\u001b[39m, \u001b[38;5;124m'\u001b[39m\u001b[38;5;124mDirrhea\u001b[39m\u001b[38;5;124m'\u001b[39m, \u001b[38;5;124m'\u001b[39m\u001b[38;5;124mcheikngunya\u001b[39m\u001b[38;5;124m'\u001b[39m]\n\u001b[0;32m     34\u001b[0m reference_dict \u001b[38;5;241m=\u001b[39m ref_dict\n\u001b[1;32m---> 35\u001b[0m corrected_words \u001b[38;5;241m=\u001b[39m \u001b[43mspell_correction\u001b[49m\u001b[43m(\u001b[49m\u001b[43mincorrect_words_list\u001b[49m\u001b[43m,\u001b[49m\u001b[43m \u001b[49m\u001b[43mreference_dict\u001b[49m\u001b[43m,\u001b[49m\u001b[43m \u001b[49m\u001b[43mweightage\u001b[49m\u001b[38;5;241;43m=\u001b[39;49m\u001b[38;5;241;43m0.8\u001b[39;49m\u001b[43m)\u001b[49m\n\u001b[0;32m     36\u001b[0m \u001b[38;5;28mprint\u001b[39m(\u001b[38;5;124m\"\u001b[39m\u001b[38;5;124mCorrected words: \u001b[39m\u001b[38;5;124m\"\u001b[39m, corrected_words)\n",
      "Input \u001b[1;32mIn [7]\u001b[0m, in \u001b[0;36mspell_correction\u001b[1;34m(incorrect_words_list, reference_dict, weightage)\u001b[0m\n\u001b[0;32m     15\u001b[0m \u001b[38;5;66;03m# iterate through reference list\u001b[39;00m\n\u001b[0;32m     16\u001b[0m \u001b[38;5;28;01mfor\u001b[39;00m ref_word \u001b[38;5;129;01min\u001b[39;00m reference_dict\u001b[38;5;241m.\u001b[39mkeys():\n\u001b[0;32m     17\u001b[0m     \u001b[38;5;66;03m# calculate Levenshtein distance\u001b[39;00m\n\u001b[1;32m---> 18\u001b[0m     dist \u001b[38;5;241m=\u001b[39m \u001b[43mdistance\u001b[49m(word, ref_word)\n\u001b[0;32m     19\u001b[0m     \u001b[38;5;66;03m# check if the distance is smaller than the current minimum distance\u001b[39;00m\n\u001b[0;32m     20\u001b[0m     \u001b[38;5;28;01mif\u001b[39;00m dist \u001b[38;5;241m<\u001b[39m min_dist:\n",
      "\u001b[1;31mNameError\u001b[0m: name 'distance' is not defined"
     ]
    }
   ],
   "source": [
    "def spell_correction(incorrect_words_list, reference_dict, weightage=0.5):\n",
    "    corrected_words = {}\n",
    "    for word in incorrect_words_list:\n",
    "        # get the closest match using difflib\n",
    "        closest_match_difflib = get_close_matches(word, reference_dict.keys(), n=1, cutoff=weightage)\n",
    "        if closest_match_difflib:\n",
    "            closest_match_difflib = closest_match_difflib[0]\n",
    "            label = reference_dict.get(closest_match_difflib, 'not_found')\n",
    "        else:\n",
    "            closest_match_difflib = word\n",
    "            label = 'not_found'\n",
    "        # initialize closest match and minimum distance\n",
    "        closest_match_lev = \"\"\n",
    "        min_dist = float(\"inf\")\n",
    "        # iterate through reference list\n",
    "        for ref_word in reference_dict.keys():\n",
    "            # calculate Levenshtein distance\n",
    "            dist = distance(word, ref_word)\n",
    "            # check if the distance is smaller than the current minimum distance\n",
    "            if dist < min_dist:\n",
    "                closest_match_lev = ref_word\n",
    "                min_dist = dist\n",
    "        # return closest match based on weightage\n",
    "        if weightage < 0.5:\n",
    "            corrected_words[word] = (closest_match_lev, reference_dict.get(closest_match_lev, 'not_found'))\n",
    "        else:\n",
    "            corrected_words[word] = (closest_match_difflib, label)\n",
    "    return corrected_words\n",
    "\n",
    "\n",
    "incorrect_words_list = ['morpidopesity', 'metholienate', 'chelesteral', 'hyperdipillemia', 'hyperlifichesmia', 'folliaded',\n",
    "             'Dratactive', 'towastatin', 'chelesteral', 'patision', 'Oregozale', 'Vigran', 'Farxija',\n",
    " 'puphosis', 'Deleficiency', 'besignhypertension', 'Arghristis', 'Dirrhea', 'cheikngunya']\n",
    "reference_dict = ref_dict\n",
    "corrected_words = spell_correction(incorrect_words_list, reference_dict, weightage=0.8)\n",
    "print(\"Corrected words: \", corrected_words)"
   ]
  },
  {
   "cell_type": "code",
   "execution_count": 21,
   "id": "02a8768b",
   "metadata": {},
   "outputs": [
    {
     "name": "stdout",
     "output_type": "stream",
     "text": [
      "cardiovascular\n"
     ]
    }
   ],
   "source": [
    "from spellchecker import SpellChecker\n",
    "\n",
    "spell = SpellChecker()\n",
    "\n",
    "misspelled_word = \"cariovasculr\"\n",
    "\n",
    "corrected_word = spell.correction(misspelled_word)\n",
    "\n",
    "print(corrected_word)"
   ]
  },
  {
   "cell_type": "code",
   "execution_count": 22,
   "id": "22818439",
   "metadata": {},
   "outputs": [
    {
     "name": "stdout",
     "output_type": "stream",
     "text": [
      "[None, None, 'cholesterol', None, None, 'collided', None, None, 'cholesterol', 'passion', None, 'virgin', None, None, 'deficiency', None, 'arthritis', 'muchas']\n"
     ]
    }
   ],
   "source": [
    "from spellchecker import SpellChecker\n",
    "\n",
    "spell = SpellChecker()\n",
    "\n",
    "misspelled_words = ['morpidopesity', 'metholienate', 'chelesteral', 'hyperdipillemia', 'hyperlifichesmia','folliaded',\n",
    "                'Dratactive','towastatin', 'chelesteral', 'patision', 'Oregozale', 'Vigran', 'Farxija',\n",
    "               'puphosis', 'Deleficiency', 'besignhypertension', 'Arghristis','suchas']\n",
    "corrected_words = []\n",
    "\n",
    "for word in misspelled_words:\n",
    "    corrected_word = spell.correction(word)\n",
    "    corrected_words.append(corrected_word)\n",
    "\n",
    "print(corrected_words)"
   ]
  },
  {
   "cell_type": "code",
   "execution_count": 6,
   "id": "3ac57dfb",
   "metadata": {},
   "outputs": [
    {
     "name": "stdout",
     "output_type": "stream",
     "text": [
      "The word cherry was found at index 2 in the list.\n"
     ]
    }
   ],
   "source": [
    "def linear_search(word, word_list):\n",
    "    for i in range(len(word_list)):\n",
    "        if word == word_list[i]:\n",
    "            return i\n",
    "    return -1\n",
    "\n",
    "word_list = [\"apple\", \"banana\", \"cherry\", \"date\"]\n",
    "word = \"cherry\"\n",
    "index = linear_search(word, word_list)\n",
    "if index != -1:\n",
    "    print(f\"The word {word} was found at index {index} in the list.\")\n",
    "else:\n",
    "    print(f\"The word {word} was not found in the list.\")"
   ]
  },
  {
   "cell_type": "code",
   "execution_count": null,
   "id": "c690b980",
   "metadata": {},
   "outputs": [],
   "source": []
  }
 ],
 "metadata": {
  "kernelspec": {
   "display_name": "Python 3 (ipykernel)",
   "language": "python",
   "name": "python3"
  },
  "language_info": {
   "codemirror_mode": {
    "name": "ipython",
    "version": 3
   },
   "file_extension": ".py",
   "mimetype": "text/x-python",
   "name": "python",
   "nbconvert_exporter": "python",
   "pygments_lexer": "ipython3",
   "version": "3.9.12"
  }
 },
 "nbformat": 4,
 "nbformat_minor": 5
}
