{
 "cells": [
  {
   "cell_type": "code",
   "execution_count": null,
   "id": "bac6e196",
   "metadata": {},
   "outputs": [],
   "source": [
    "import pandas as pd\n",
    "data = pd.read_csv(\"dataset.csv\")\n"
   ]
  },
  {
   "cell_type": "code",
   "execution_count": null,
   "id": "cdd5dc9d",
   "metadata": {},
   "outputs": [],
   "source": [
    "from keras.preprocessing.text import Tokenizer\n",
    "from keras.preprocessing.sequence import pad_sequences\n",
    "\n",
    "# Tokenize the words\n",
    "tokenizer = Tokenizer()\n",
    "tokenizer.fit_on_texts(data['correct_words'])\n",
    "\n",
    "# convert words to numerical inputs\n",
    "correct_words = tokenizer.texts_to_sequences(data['correct_words'])\n",
    "misspelled_words = tokenizer.texts_to_sequences(data['misspelled_words'])\n"
   ]
  },
  {
   "cell_type": "code",
   "execution_count": null,
   "id": "5ae595f5",
   "metadata": {},
   "outputs": [],
   "source": [
    "from keras.layers import Embedding, LSTM, Dense, Input, TimeDistributed\n",
    "from keras.models import Model\n",
    "\n",
    "# Define the input layer\n",
    "input_layer = Input(shape=(None,))\n",
    "\n",
    "# Define the embedding layer\n",
    "embedding_layer = Embedding(len(tokenizer.word_index)+1, 100, input_length=None)(input_layer)\n",
    "\n",
    "# Define the LSTM layer\n",
    "lstm_layer = LSTM(100, return_sequences=True)(embedding_layer)\n",
    "\n",
    "# Define the output layer\n",
    "output_layer = TimeDistributed(Dense(len(tokenizer.word_index)+1, activation='softmax'))(lstm_layer)\n",
    "\n",
    "# Create the model\n",
    "model = Model(input_layer, output_layer)\n"
   ]
  },
  {
   "cell_type": "code",
   "execution_count": null,
   "id": "26546e9f",
   "metadata": {},
   "outputs": [],
   "source": [
    "model.compile(optimizer='adam', loss='categorical_crossentropy')\n",
    "model.fit(correct_words, misspelled_words)\n"
   ]
  },
  {
   "cell_type": "code",
   "execution_count": null,
   "id": "6165d3fc",
   "metadata": {},
   "outputs": [],
   "source": [
    "# Encode the misspelled words\n",
    "misspelled_words = tokenizer.texts_to_sequences([\"misspelled_word\"])\n",
    "\n",
    "# Predict the corrected word\n",
    "predicted_word = model.predict(misspelled_words)\n",
    "\n",
    "# Decode the predicted word\n",
    "predicted_word = tokenizer.sequences_to_texts([predicted_word])\n"
   ]
  },
  {
   "cell_type": "code",
   "execution_count": null,
   "id": "1713dd10",
   "metadata": {},
   "outputs": [],
   "source": []
  },
  {
   "cell_type": "code",
   "execution_count": null,
   "id": "d00ad54d",
   "metadata": {},
   "outputs": [],
   "source": []
  },
  {
   "cell_type": "code",
   "execution_count": null,
   "id": "3e6398cf",
   "metadata": {},
   "outputs": [],
   "source": [
    "from keras.preprocessing.text import Tokenizer\n",
    "from keras.preprocessing.sequence import pad_sequences\n",
    "from keras.layers import Input, LSTM, Embedding, Dense\n",
    "from keras.models import Model\n",
    "\n",
    "# Tokenize the correct and misspelled words\n",
    "tokenizer = Tokenizer()\n",
    "tokenizer.fit_on_texts(list(data['correct_words'].values) + list(data['misspelled_words'].values))\n",
    "\n",
    "# Convert the words to sequences of integers\n",
    "correct_sequences = tokenizer.texts_to_sequences(data['correct_words'].values)\n",
    "misspelled_sequences = tokenizer.texts_to_sequences(data['misspelled_words'].values)\n",
    "\n",
    "# Pad the sequences to the same length\n",
    "max_length = max(len(max(correct_sequences, key=len)), len(max(misspelled_sequences, key=len)))\n",
    "correct_sequences = pad_sequences(correct_sequences, maxlen=max_length)\n",
    "misspelled_sequences = pad_sequences(misspelled_sequences, maxlen=max_length)\n",
    "\n",
    "# Define the encoder and decoder inputs\n",
    "encoder_inputs = Input(shape=(max_length,))\n",
    "decoder_inputs = Input(shape=(max_length,))\n",
    "\n",
    "# Use an embedding layer to map the words to a dense vector representation\n",
    "embedding_layer = Embedding(len(tokenizer.word_index) + 1, 100)\n",
    "encoder_embedding = embedding_layer(encoder_inputs)\n",
    "decoder_embedding = embedding_layer(decoder_inputs)\n",
    "\n",
    "# Use an LSTM layer as the encoder\n",
    "encoder = LSTM(100, return_state=True)\n",
    "encoder_outputs, state_h, state_c = encoder(encoder_embedding)\n",
    "encoder_states = [state_h, state_c]\n",
    "\n",
    "# Use an LSTM layer as the decoder\n",
    "decoder = LSTM(100, return_sequences=True, return_state=True)\n",
    "decoder_outputs, _, _ = decoder(decoder_embedding, initial_state=encoder_states)\n",
    "\n",
    "# Use a dense layer to map the decoder output to the vocabulary\n",
    "dense = Dense(len(tokenizer.word_index) + 1, activation='softmax')\n",
    "outputs = dense(decoder_outputs)\n",
    "\n",
    "# Define and compile the model\n",
    "model = Model([encoder_inputs, decoder_inputs], outputs)\n",
    "model.compile(optimizer='adam', loss='categorical_crossentropy')\n",
    "\n",
    "# Fit the model on the data\n",
    "model.fit([correct_sequences, misspelled_sequences], correct_sequences,\n",
    "          batch_size=32, epochs=100, validation_split=0.2)\n"
   ]
  }
 ],
 "metadata": {
  "kernelspec": {
   "display_name": "Python 3 (ipykernel)",
   "language": "python",
   "name": "python3"
  },
  "language_info": {
   "codemirror_mode": {
    "name": "ipython",
    "version": 3
   },
   "file_extension": ".py",
   "mimetype": "text/x-python",
   "name": "python",
   "nbconvert_exporter": "python",
   "pygments_lexer": "ipython3",
   "version": "3.9.12"
  }
 },
 "nbformat": 4,
 "nbformat_minor": 5
}
