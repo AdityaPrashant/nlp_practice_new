{
 "cells": [
  {
   "cell_type": "code",
   "execution_count": 8,
   "id": "6480be03",
   "metadata": {},
   "outputs": [
    {
     "name": "stderr",
     "output_type": "stream",
     "text": [
      "C:\\Users\\p_adi\\anaconda3\\lib\\site-packages\\sklearn\\cluster\\_kmeans.py:1334: UserWarning: KMeans is known to have a memory leak on Windows with MKL, when there are less chunks than available threads. You can avoid it by setting the environment variable OMP_NUM_THREADS=1.\n",
      "  warnings.warn(\n",
      "C:\\Users\\p_adi\\AppData\\Local\\Temp\\ipykernel_9200\\487801643.py:27: ConvergenceWarning: Number of distinct clusters (2) found smaller than n_clusters (4). Possibly due to duplicate points in X.\n",
      "  kmeans = KMeans(n_clusters=len(words), random_state=0).fit(df_distance)\n"
     ]
    }
   ],
   "source": [
    "import pandas as pd\n",
    "from Levenshtein import distance\n",
    "from sklearn.cluster import KMeans\n",
    "from sklearn.metrics import pairwise_distances_argmin_min\n",
    "import numpy as np\n",
    "\n",
    "# Create a dataset of words and their misspellings\n",
    "words = ['apple', 'banana', 'orange', 'grape']\n",
    "misspellings = [['appel', 'appel', 'appel'], \n",
    "                ['banan', 'banan', 'banan'], \n",
    "                ['orang', 'orang', 'orang'], \n",
    "                ['grap', 'grap', 'grap']]\n",
    "\n",
    "# Create a dataframe to store the words and misspellings\n",
    "df = pd.DataFrame({'word': words, 'misspellings': misspellings})\n",
    "\n",
    "# Flatten the list of misspellings and add them to the dataframe\n",
    "df = pd.concat([df.drop(['misspellings'], axis=1), df['misspellings'].apply(pd.Series)], axis=1)\n",
    "\n",
    "# Calculate the Levenshtein distance between each word and its misspellings\n",
    "df['distance'] = df.apply(lambda x: list(map(lambda m: distance(x['word'], m), x[0:3])), axis=1)\n",
    "\n",
    "# Convert distance column to a 2-D array\n",
    "df_distance = np.array(df['distance'].tolist())\n",
    "\n",
    "# Perform k-means clustering on the words and their misspellings\n",
    "kmeans = KMeans(n_clusters=len(words), random_state=0).fit(df_distance)\n",
    "\n",
    "# Find the closest word to the center of each cluster\n",
    "closest, _ = pairwise_distances_argmin_min(kmeans.cluster_centers_, df_distance)\n",
    "correct_words = df.iloc[closest]['word'].values\n",
    "\n"
   ]
  },
  {
   "cell_type": "code",
   "execution_count": 13,
   "id": "edf0eb44",
   "metadata": {},
   "outputs": [
    {
     "name": "stderr",
     "output_type": "stream",
     "text": [
      "C:\\Users\\p_adi\\anaconda3\\lib\\site-packages\\sklearn\\cluster\\_kmeans.py:1334: UserWarning: KMeans is known to have a memory leak on Windows with MKL, when there are less chunks than available threads. You can avoid it by setting the environment variable OMP_NUM_THREADS=1.\n",
      "  warnings.warn(\n",
      "C:\\Users\\p_adi\\AppData\\Local\\Temp\\ipykernel_9200\\2843131091.py:25: ConvergenceWarning: Number of distinct clusters (2) found smaller than n_clusters (4). Possibly due to duplicate points in X.\n",
      "  kmeans = KMeans(n_clusters=4, random_state=0).fit(df_distance)\n"
     ]
    }
   ],
   "source": [
    "import pandas as pd\n",
    "from Levenshtein import distance\n",
    "from sklearn.cluster import KMeans\n",
    "from statistics import mode\n",
    "import numpy as np\n",
    "\n",
    "# Create a dataset of words and their misspellings\n",
    "words = ['apple', 'banana', 'orange', 'grape']\n",
    "misspellings = [['appel', 'appel', 'appel'], ['banan', 'banan', 'banan'], ['orang', 'orang', 'orang'], ['grap', 'grap', 'grap']]\n",
    "\n",
    "# Create a dataframe to store the words and misspellings\n",
    "df = pd.DataFrame({'word': words, 'misspellings': misspellings})\n",
    "\n",
    "\n",
    "# Flatten the list of misspellings and add them to the dataframe\n",
    "df = pd.concat([df.drop(['misspellings'], axis=1), df['misspellings'].apply(pd.Series)], axis=1)\n",
    "\n",
    "# Calculate the Levenshtein distance between each word and its misspellings\n",
    "df['distance'] = df.apply(lambda x: list(map(lambda m: distance(x['word'], m), x[0:3])), axis=1)\n",
    "\n",
    "# Convert distance column to a 2-D array\n",
    "df_distance = np.array(df['distance'].tolist())\n",
    "\n",
    "# Perform k-means clustering on the words and their misspellings\n",
    "kmeans = KMeans(n_clusters=4, random_state=0).fit(df_distance)\n",
    "\n",
    "# Assign each word to a cluster\n",
    "df['cluster'] = kmeans.predict(df_distance)\n",
    "\n",
    "# Find the mode of the words in each cluster\n",
    "correct_words = df.groupby(['cluster'])['word'].apply(lambda x: mode(x))\n",
    "\n"
   ]
  },
  {
   "cell_type": "code",
   "execution_count": 14,
   "id": "ac421baf",
   "metadata": {},
   "outputs": [
    {
     "data": {
      "text/plain": [
       "cluster\n",
       "0     apple\n",
       "1    banana\n",
       "Name: word, dtype: object"
      ]
     },
     "execution_count": 14,
     "metadata": {},
     "output_type": "execute_result"
    }
   ],
   "source": [
    "correct_words"
   ]
  },
  {
   "cell_type": "code",
   "execution_count": 15,
   "id": "070cabb8",
   "metadata": {},
   "outputs": [
    {
     "data": {
      "text/html": [
       "<div>\n",
       "<style scoped>\n",
       "    .dataframe tbody tr th:only-of-type {\n",
       "        vertical-align: middle;\n",
       "    }\n",
       "\n",
       "    .dataframe tbody tr th {\n",
       "        vertical-align: top;\n",
       "    }\n",
       "\n",
       "    .dataframe thead th {\n",
       "        text-align: right;\n",
       "    }\n",
       "</style>\n",
       "<table border=\"1\" class=\"dataframe\">\n",
       "  <thead>\n",
       "    <tr style=\"text-align: right;\">\n",
       "      <th></th>\n",
       "      <th>word</th>\n",
       "      <th>0</th>\n",
       "      <th>1</th>\n",
       "      <th>2</th>\n",
       "      <th>distance</th>\n",
       "      <th>cluster</th>\n",
       "    </tr>\n",
       "  </thead>\n",
       "  <tbody>\n",
       "    <tr>\n",
       "      <th>0</th>\n",
       "      <td>apple</td>\n",
       "      <td>appel</td>\n",
       "      <td>appel</td>\n",
       "      <td>appel</td>\n",
       "      <td>[0, 2, 2]</td>\n",
       "      <td>0</td>\n",
       "    </tr>\n",
       "    <tr>\n",
       "      <th>1</th>\n",
       "      <td>banana</td>\n",
       "      <td>banan</td>\n",
       "      <td>banan</td>\n",
       "      <td>banan</td>\n",
       "      <td>[0, 1, 1]</td>\n",
       "      <td>1</td>\n",
       "    </tr>\n",
       "    <tr>\n",
       "      <th>2</th>\n",
       "      <td>orange</td>\n",
       "      <td>orang</td>\n",
       "      <td>orang</td>\n",
       "      <td>orang</td>\n",
       "      <td>[0, 1, 1]</td>\n",
       "      <td>1</td>\n",
       "    </tr>\n",
       "    <tr>\n",
       "      <th>3</th>\n",
       "      <td>grape</td>\n",
       "      <td>grap</td>\n",
       "      <td>grap</td>\n",
       "      <td>grap</td>\n",
       "      <td>[0, 1, 1]</td>\n",
       "      <td>1</td>\n",
       "    </tr>\n",
       "  </tbody>\n",
       "</table>\n",
       "</div>"
      ],
      "text/plain": [
       "     word      0      1      2   distance  cluster\n",
       "0   apple  appel  appel  appel  [0, 2, 2]        0\n",
       "1  banana  banan  banan  banan  [0, 1, 1]        1\n",
       "2  orange  orang  orang  orang  [0, 1, 1]        1\n",
       "3   grape   grap   grap   grap  [0, 1, 1]        1"
      ]
     },
     "execution_count": 15,
     "metadata": {},
     "output_type": "execute_result"
    }
   ],
   "source": [
    "df"
   ]
  },
  {
   "cell_type": "code",
   "execution_count": null,
   "id": "0d3b3fab",
   "metadata": {},
   "outputs": [],
   "source": []
  },
  {
   "cell_type": "code",
   "execution_count": null,
   "id": "b18a99a2",
   "metadata": {},
   "outputs": [],
   "source": []
  },
  {
   "cell_type": "code",
   "execution_count": null,
   "id": "b3cb2548",
   "metadata": {},
   "outputs": [],
   "source": []
  }
 ],
 "metadata": {
  "kernelspec": {
   "display_name": "Python 3 (ipykernel)",
   "language": "python",
   "name": "python3"
  },
  "language_info": {
   "codemirror_mode": {
    "name": "ipython",
    "version": 3
   },
   "file_extension": ".py",
   "mimetype": "text/x-python",
   "name": "python",
   "nbconvert_exporter": "python",
   "pygments_lexer": "ipython3",
   "version": "3.9.12"
  }
 },
 "nbformat": 4,
 "nbformat_minor": 5
}
