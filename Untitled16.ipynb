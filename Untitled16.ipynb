{
 "cells": [
  {
   "cell_type": "code",
   "execution_count": 4,
   "id": "0b5cd0af",
   "metadata": {},
   "outputs": [
    {
     "ename": "ModuleNotFoundError",
     "evalue": "No module named 'django'",
     "output_type": "error",
     "traceback": [
      "\u001b[1;31m---------------------------------------------------------------------------\u001b[0m",
      "\u001b[1;31mModuleNotFoundError\u001b[0m                       Traceback (most recent call last)",
      "Input \u001b[1;32mIn [4]\u001b[0m, in \u001b[0;36m<cell line: 8>\u001b[1;34m()\u001b[0m\n\u001b[0;32m      2\u001b[0m INSTALLED_APPS \u001b[38;5;241m=\u001b[39m [\n\u001b[0;32m      3\u001b[0m     \u001b[38;5;66;03m# ...\u001b[39;00m\n\u001b[0;32m      4\u001b[0m     \u001b[38;5;124m'\u001b[39m\u001b[38;5;124mstocks\u001b[39m\u001b[38;5;124m'\u001b[39m,\n\u001b[0;32m      5\u001b[0m ]\n\u001b[0;32m      7\u001b[0m \u001b[38;5;66;03m# urls.py\u001b[39;00m\n\u001b[1;32m----> 8\u001b[0m \u001b[38;5;28;01mfrom\u001b[39;00m \u001b[38;5;21;01mdjango\u001b[39;00m\u001b[38;5;21;01m.\u001b[39;00m\u001b[38;5;21;01murls\u001b[39;00m \u001b[38;5;28;01mimport\u001b[39;00m path\n\u001b[0;32m      9\u001b[0m \u001b[38;5;28;01mfrom\u001b[39;00m \u001b[38;5;21;01mstocks\u001b[39;00m \u001b[38;5;28;01mimport\u001b[39;00m views\n\u001b[0;32m     11\u001b[0m urlpatterns \u001b[38;5;241m=\u001b[39m [\n\u001b[0;32m     12\u001b[0m     \u001b[38;5;66;03m# ...\u001b[39;00m\n\u001b[0;32m     13\u001b[0m     path(\u001b[38;5;124m'\u001b[39m\u001b[38;5;124mstocks/\u001b[39m\u001b[38;5;124m'\u001b[39m, views\u001b[38;5;241m.\u001b[39mStockListView\u001b[38;5;241m.\u001b[39mas_view(), name\u001b[38;5;241m=\u001b[39m\u001b[38;5;124m'\u001b[39m\u001b[38;5;124mstock-list\u001b[39m\u001b[38;5;124m'\u001b[39m),\n\u001b[0;32m     14\u001b[0m ]\n",
      "\u001b[1;31mModuleNotFoundError\u001b[0m: No module named 'django'"
     ]
    }
   ],
   "source": [
    "# settings.py\n",
    "INSTALLED_APPS = [\n",
    "    # ...\n",
    "    'stocks',\n",
    "]\n",
    "\n",
    "# urls.py\n",
    "from django.urls import path\n",
    "from stocks import views\n",
    "\n",
    "urlpatterns = [\n",
    "    # ...\n",
    "    path('stocks/', views.StockListView.as_view(), name='stock-list'),\n",
    "]\n",
    "\n",
    "# views.py\n",
    "import requests\n",
    "import json\n",
    "from django.shortcuts import render\n",
    "from django.views import View\n",
    "\n",
    "class StockListView(View):\n",
    "    def get(self, request):\n",
    "        api_key = \"YOUR_API_KEY\"\n",
    "        endpoint = \"https://www.alphavantage.co/query\"\n",
    "\n",
    "        def get_stock_data(symbol):\n",
    "            params = {\n",
    "                \"function\": \"GLOBAL_QUOTE\",\n",
    "                \"symbol\": symbol,\n",
    "                \"apikey\": api_key\n",
    "            }\n",
    "            response = requests.get(endpoint, params=params)\n",
    "            if response.status_code == 200:\n",
    "                data = response.json()\n",
    "                return data\n",
    "            else:\n",
    "                return None\n",
    "\n",
    "        top_stocks = [\"AAPL\", \"MSFT\", \"GOOG\", \"AMZN\", \"FB\"]\n",
    "        stock_data = []\n",
    "        for stock in top_stocks:\n",
    "            data = get_stock_data(stock)\n",
    "            if data:\n",
    "                symbol = data[\"Global Quote\"][\"01. symbol\"]\n",
    "                latest_price = data[\"Global Quote\"][\"05. price\"]\n",
    "                stock_data.append({\n",
    "                    'symbol': symbol,\n",
    "                    'price': latest_price,\n",
    "                })\n",
    "        return render(request, 'stocks/stock_list.html', {'stock_data': stock_data})\n",
    "\n"
   ]
  },
  {
   "cell_type": "code",
   "execution_count": 3,
   "id": "55fb1fba",
   "metadata": {},
   "outputs": [
    {
     "ename": "SyntaxError",
     "evalue": "invalid syntax (1007099000.py, line 2)",
     "output_type": "error",
     "traceback": [
      "\u001b[1;36m  Input \u001b[1;32mIn [3]\u001b[1;36m\u001b[0m\n\u001b[1;33m    <table>\u001b[0m\n\u001b[1;37m    ^\u001b[0m\n\u001b[1;31mSyntaxError\u001b[0m\u001b[1;31m:\u001b[0m invalid syntax\n"
     ]
    }
   ],
   "source": [
    "# templates/stocks/stock_list.html\n",
    "<table>\n",
    "    <thead>\n",
    "        <tr>\n",
    "            <th>Symbol</th>\n",
    "            <th>Price</th>\n",
    "        </tr>\n",
    "    </thead>\n",
    "    <tbody>\n",
    "        {% for stock in stock_data %}\n",
    "        <tr>\n",
    "            <td>{{ stock.symbol }}</td>\n",
    "            <td>${{ stock.price }}</td>\n",
    "        </tr>\n",
    "        {% endfor %}\n",
    "    </tbody>\n",
    "</table>"
   ]
  },
  {
   "cell_type": "code",
   "execution_count": null,
   "id": "99d71c77",
   "metadata": {},
   "outputs": [],
   "source": []
  }
 ],
 "metadata": {
  "kernelspec": {
   "display_name": "Python 3 (ipykernel)",
   "language": "python",
   "name": "python3"
  },
  "language_info": {
   "codemirror_mode": {
    "name": "ipython",
    "version": 3
   },
   "file_extension": ".py",
   "mimetype": "text/x-python",
   "name": "python",
   "nbconvert_exporter": "python",
   "pygments_lexer": "ipython3",
   "version": "3.9.12"
  }
 },
 "nbformat": 4,
 "nbformat_minor": 5
}
