{
 "cells": [
  {
   "cell_type": "code",
   "execution_count": null,
   "id": "6b7b52aa",
   "metadata": {},
   "outputs": [],
   "source": [
    "import pandas as pd\n",
    "import numpy as np\n",
    "from keras.preprocessing.text import Tokenizer\n",
    "from keras.preprocessing.sequence import pad_sequences\n",
    "from gensim.models.keyedvectors import KeyedVectors\n"
   ]
  },
  {
   "cell_type": "code",
   "execution_count": null,
   "id": "be400621",
   "metadata": {},
   "outputs": [],
   "source": [
    "data = pd.read_csv(\"dataset.csv\")\n"
   ]
  },
  {
   "cell_type": "code",
   "execution_count": null,
   "id": "357d49c5",
   "metadata": {},
   "outputs": [],
   "source": [
    "# Load the GloVe model\n",
    "glove_model = KeyedVectors.load_word2vec_format('glove.6B.100d.txt', binary=False)\n",
    "\n",
    "# Tokenize the words\n",
    "tokenizer = Tokenizer()\n",
    "tokenizer.fit_on_texts(data['correct_words'])\n",
    "\n",
    "# convert words to numerical inputs using GloVe word embeddings\n",
    "correct_words = pad_sequences(tokenizer.texts_to_sequences(data['correct_words']))\n",
    "misspelled_words = pad_sequences(tokenizer.texts_to_sequences(data['misspelled_words']))\n",
    "\n",
    "# Create the embedding matrix\n",
    "embedding_matrix = np.zeros((len(tokenizer.word_index)+1, 100))\n",
    "for word, i in tokenizer.word_index.items():\n",
    "    if word in glove_model:\n",
    "        embedding_matrix[i] = glove_model[word]\n"
   ]
  },
  {
   "cell_type": "code",
   "execution_count": null,
   "id": "4c16b88b",
   "metadata": {},
   "outputs": [],
   "source": [
    "from keras.layers import Embedding, LSTM, Dense, Input, TimeDistributed\n",
    "from keras.models import Model\n",
    "\n",
    "# Define the input layer\n",
    "input_layer = Input(shape=(None,))\n",
    "\n",
    "# Define the embedding layer\n",
    "embedding_layer = Embedding(len(tokenizer.word_index)+1, 100, input_length=None,weights=[embedding_matrix], trainable=False)(input_layer)\n",
    "\n",
    "# Define the LSTM layer\n",
    "lstm_layer = LSTM(100, return_sequences=True)(embedding_layer)\n",
    "\n",
    "# Define the output layer\n",
    "output_layer = TimeDistributed(Dense(len(tokenizer.word_index)+1, activation='softmax'))(lstm_layer)\n",
    "\n",
    "# Create the model\n",
    "model = Model(input_layer, output_layer)\n"
   ]
  },
  {
   "cell_type": "code",
   "execution_count": null,
   "id": "dd467f6c",
   "metadata": {},
   "outputs": [],
   "source": [
    "model.compile(optimizer='adam', loss='categorical_crossentropy')\n",
    "model.fit(correct_words, misspelled_words)\n"
   ]
  },
  {
   "cell_type": "code",
   "execution_count": null,
   "id": "bc4ac4e0",
   "metadata": {},
   "outputs": [],
   "source": [
    "# Encode the misspelled words\n",
    "misspelled_words = pad_sequences(tokenizer.texts_to_sequences([\"misspelled_word\"])\n",
    "# Predict the corrected word\n",
    "predicted_word = model.predict(misspelled_words)\n",
    "\n",
    "# Decode the predicted word\n",
    "predicted_word = tokenizer.sequences_to_texts([predicted_word])"
   ]
  },
  {
   "cell_type": "code",
   "execution_count": null,
   "id": "437da7bd",
   "metadata": {},
   "outputs": [],
   "source": []
  },
  {
   "cell_type": "code",
   "execution_count": null,
   "id": "9f6359df",
   "metadata": {},
   "outputs": [],
   "source": []
  },
  {
   "cell_type": "code",
   "execution_count": null,
   "id": "f759b967",
   "metadata": {},
   "outputs": [],
   "source": []
  },
  {
   "cell_type": "code",
   "execution_count": null,
   "id": "ff06f4f7",
   "metadata": {},
   "outputs": [],
   "source": []
  },
  {
   "cell_type": "code",
   "execution_count": null,
   "id": "c78d9af1",
   "metadata": {},
   "outputs": [],
   "source": []
  },
  {
   "cell_type": "code",
   "execution_count": null,
   "id": "8cbd0a3e",
   "metadata": {},
   "outputs": [],
   "source": []
  }
 ],
 "metadata": {
  "kernelspec": {
   "display_name": "Python 3 (ipykernel)",
   "language": "python",
   "name": "python3"
  },
  "language_info": {
   "codemirror_mode": {
    "name": "ipython",
    "version": 3
   },
   "file_extension": ".py",
   "mimetype": "text/x-python",
   "name": "python",
   "nbconvert_exporter": "python",
   "pygments_lexer": "ipython3",
   "version": "3.9.12"
  }
 },
 "nbformat": 4,
 "nbformat_minor": 5
}
